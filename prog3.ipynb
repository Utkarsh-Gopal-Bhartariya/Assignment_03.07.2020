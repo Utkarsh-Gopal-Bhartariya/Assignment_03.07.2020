{
 "cells": [
  {
   "cell_type": "code",
   "execution_count": 1,
   "metadata": {},
   "outputs": [
    {
     "name": "stdout",
     "output_type": "stream",
     "text": [
      "Enter number of terms : 1\n",
      "Fibonacci series till 1  : \n",
      "0\n"
     ]
    }
   ],
   "source": [
    "#Utkarsh Gopal Bhartariya\n",
    "#program3\n",
    "num_of_Terms = int(input(\"Enter number of terms : \"))#number of terms\n",
    "\n",
    "n1 = int(0)#records for upation\n",
    "n2 = int(1)#records for upation\n",
    "i = int(0)#counter variable\n",
    "\n",
    "if num_of_Terms <= 0:#checking for positive integer\n",
    "   print(\"ERROR!!PLZ enter a positive integer\")\n",
    "\n",
    "elif num_of_Terms  == 1:#checking the number of terms for 1\n",
    "   print(\"Fibonacci series till\", num_of_Terms ,\" : \")\n",
    "   print(n1)\n",
    "    \n",
    "else:#printing for more than 1 terms\n",
    "   print(\"Fibonacci series till\", num_of_Terms ,\" : \")\n",
    "\n",
    "   while i < num_of_Terms #looping\n",
    "       print(n1)\n",
    "       update = int(n1 + n2) #updating\n",
    "       n1 = n2 #updating\n",
    "       n2 = update #updating\n",
    "       i = i+1 #updating counter\n",
    "        "
   ]
  },
  {
   "cell_type": "code",
   "execution_count": null,
   "metadata": {},
   "outputs": [],
   "source": []
  }
 ],
 "metadata": {
  "kernelspec": {
   "display_name": "Python 3",
   "language": "python",
   "name": "python3"
  },
  "language_info": {
   "codemirror_mode": {
    "name": "ipython",
    "version": 3
   },
   "file_extension": ".py",
   "mimetype": "text/x-python",
   "name": "python",
   "nbconvert_exporter": "python",
   "pygments_lexer": "ipython3",
   "version": "3.7.3"
  }
 },
 "nbformat": 4,
 "nbformat_minor": 4
}
