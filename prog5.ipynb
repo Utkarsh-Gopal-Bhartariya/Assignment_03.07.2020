{
 "cells": [
  {
   "cell_type": "code",
   "execution_count": 7,
   "metadata": {},
   "outputs": [
    {
     "name": "stdout",
     "output_type": "stream",
     "text": [
      "hello\n",
      "Length of the string is: 5\n"
     ]
    }
   ],
   "source": [
    "#Utkarsh Gopal Bhartariya\n",
    "#program5\n",
    "\n",
    "ip= input(\"enter input : \")#taking input\n",
    "c = 0#initialization of counter\n",
    "\n",
    "for i in ip:#looping\n",
    "      c=(c+1)\n",
    "        \n",
    "print(\"Length of the string is:\", c)#printing the length of string\n"
   ]
  },
  {
   "cell_type": "code",
   "execution_count": null,
   "metadata": {},
   "outputs": [],
   "source": []
  }
 ],
 "metadata": {
  "kernelspec": {
   "display_name": "Python 3",
   "language": "python",
   "name": "python3"
  },
  "language_info": {
   "codemirror_mode": {
    "name": "ipython",
    "version": 3
   },
   "file_extension": ".py",
   "mimetype": "text/x-python",
   "name": "python",
   "nbconvert_exporter": "python",
   "pygments_lexer": "ipython3",
   "version": "3.7.3"
  }
 },
 "nbformat": 4,
 "nbformat_minor": 4
}
