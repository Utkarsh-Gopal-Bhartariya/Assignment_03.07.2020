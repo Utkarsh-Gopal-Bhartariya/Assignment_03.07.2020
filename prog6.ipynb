{
 "cells": [
  {
   "cell_type": "code",
   "execution_count": 3,
   "metadata": {},
   "outputs": [
    {
     "name": "stdout",
     "output_type": "stream",
     "text": [
      "Enter string 1 : 44\n",
      "Enter string 2 : 44\n",
      "concantenated :  4444\n"
     ]
    }
   ],
   "source": [
    "#Utkarsh Gopal Bhartariya\n",
    "#program6\n",
    "a = input(\"Enter string 1 : \")\n",
    "b = input(\"Enter string 2 : \")\n",
    "\n",
    "concan = a + b\n",
    "print(\"concantenated : \", concan)"
   ]
  },
  {
   "cell_type": "code",
   "execution_count": null,
   "metadata": {},
   "outputs": [],
   "source": []
  },
  {
   "cell_type": "code",
   "execution_count": null,
   "metadata": {},
   "outputs": [],
   "source": []
  }
 ],
 "metadata": {
  "kernelspec": {
   "display_name": "Python 3",
   "language": "python",
   "name": "python3"
  },
  "language_info": {
   "codemirror_mode": {
    "name": "ipython",
    "version": 3
   },
   "file_extension": ".py",
   "mimetype": "text/x-python",
   "name": "python",
   "nbconvert_exporter": "python",
   "pygments_lexer": "ipython3",
   "version": "3.7.3"
  }
 },
 "nbformat": 4,
 "nbformat_minor": 4
}
